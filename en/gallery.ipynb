{
 "cells": [
  {
   "cell_type": "markdown",
   "metadata": {},
   "source": [
    "# Gallery"
   ]
  },
  {
   "cell_type": "markdown",
   "metadata": {
    "tags": [
     "nbsphinx-gallery"
    ]
   },
   "source": [
    "## Examples\n",
    "\n",
    "* [examples/example01](examples/example01.ipynb)\n",
    "* [examples/example02](examples/example02.ipynb)\n",
    "* [examples/example03](examples/example03.ipynb)\n",
    "* [examples/example04](examples/example04.ipynb)\n",
    "* [examples/example05](examples/example05.ipynb)\n",
    "* [examples/example06](examples/example06.ipynb)\n",
    "* [examples/example07](examples/example07.ipynb)\n",
    "* [examples/example08](examples/example08.ipynb)\n",
    "* [examples/example09](examples/example09.ipynb)\n",
    "* [examples/example10](examples/example10.ipynb)\n",
    "* [examples/example11](examples/example11.ipynb)\n",
    "* [examples/example12](examples/example12.ipynb)\n",
    "* [examples/example13](examples/example13.ipynb)\n",
    "* [examples/example14](examples/example14.ipynb)"
   ]
  },
  {
   "cell_type": "markdown",
   "metadata": {
    "tags": [
     "nbsphinx-gallery"
    ]
   },
   "source": [
    "## Tests\n",
    "\n",
    "- [tests/Birth_Death](tests/Birth_Death.ipynb)\n",
    "- [tests/Homodimerization_and_Annihilation](tests/Homodimerization_and_Annihilation.ipynb)\n",
    "- [tests/MSD](tests/MSD.ipynb)\n",
    "- [tests/Reversible](tests/Reversible.ipynb)\n",
    "- [tests/Reversible_Diffusion_limited](tests/Reversible_Diffusion_limited.ipynb)"
   ]
  }
 ],
 "metadata": {
  "celltoolbar": "Tags",
  "kernelspec": {
   "display_name": "Python 3",
   "language": "python",
   "name": "python3"
  },
  "language_info": {
   "codemirror_mode": {
    "name": "ipython",
    "version": 3
   },
   "file_extension": ".py",
   "mimetype": "text/x-python",
   "name": "python",
   "nbconvert_exporter": "python",
   "pygments_lexer": "ipython3",
   "version": "3.7.1"
  }
 },
 "nbformat": 4,
 "nbformat_minor": 2
}
